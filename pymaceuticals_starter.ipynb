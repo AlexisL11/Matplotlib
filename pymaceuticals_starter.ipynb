{
 "cells": [
  {
   "cell_type": "markdown",
   "metadata": {},
   "source": [
    "## Observations and Insights "
   ]
  },
  {
   "cell_type": "markdown",
   "metadata": {},
   "source": []
  },
  {
   "cell_type": "code",
   "execution_count": 1,
   "metadata": {},
   "outputs": [
    {
     "data": {
      "text/html": [
       "<div>\n",
       "<style scoped>\n",
       "    .dataframe tbody tr th:only-of-type {\n",
       "        vertical-align: middle;\n",
       "    }\n",
       "\n",
       "    .dataframe tbody tr th {\n",
       "        vertical-align: top;\n",
       "    }\n",
       "\n",
       "    .dataframe thead th {\n",
       "        text-align: right;\n",
       "    }\n",
       "</style>\n",
       "<table border=\"1\" class=\"dataframe\">\n",
       "  <thead>\n",
       "    <tr style=\"text-align: right;\">\n",
       "      <th></th>\n",
       "      <th>Mouse ID</th>\n",
       "      <th>Drug Regimen</th>\n",
       "      <th>Sex</th>\n",
       "      <th>Age_months</th>\n",
       "      <th>Weight (g)</th>\n",
       "      <th>Timepoint</th>\n",
       "      <th>Tumor Volume (mm3)</th>\n",
       "      <th>Metastatic Sites</th>\n",
       "    </tr>\n",
       "  </thead>\n",
       "  <tbody>\n",
       "    <tr>\n",
       "      <th>0</th>\n",
       "      <td>k403</td>\n",
       "      <td>Ramicane</td>\n",
       "      <td>Male</td>\n",
       "      <td>21</td>\n",
       "      <td>16</td>\n",
       "      <td>0</td>\n",
       "      <td>45.000000</td>\n",
       "      <td>0</td>\n",
       "    </tr>\n",
       "    <tr>\n",
       "      <th>1</th>\n",
       "      <td>k403</td>\n",
       "      <td>Ramicane</td>\n",
       "      <td>Male</td>\n",
       "      <td>21</td>\n",
       "      <td>16</td>\n",
       "      <td>5</td>\n",
       "      <td>38.825898</td>\n",
       "      <td>0</td>\n",
       "    </tr>\n",
       "    <tr>\n",
       "      <th>2</th>\n",
       "      <td>k403</td>\n",
       "      <td>Ramicane</td>\n",
       "      <td>Male</td>\n",
       "      <td>21</td>\n",
       "      <td>16</td>\n",
       "      <td>10</td>\n",
       "      <td>35.014271</td>\n",
       "      <td>1</td>\n",
       "    </tr>\n",
       "    <tr>\n",
       "      <th>3</th>\n",
       "      <td>k403</td>\n",
       "      <td>Ramicane</td>\n",
       "      <td>Male</td>\n",
       "      <td>21</td>\n",
       "      <td>16</td>\n",
       "      <td>15</td>\n",
       "      <td>34.223992</td>\n",
       "      <td>1</td>\n",
       "    </tr>\n",
       "    <tr>\n",
       "      <th>4</th>\n",
       "      <td>k403</td>\n",
       "      <td>Ramicane</td>\n",
       "      <td>Male</td>\n",
       "      <td>21</td>\n",
       "      <td>16</td>\n",
       "      <td>20</td>\n",
       "      <td>32.997729</td>\n",
       "      <td>1</td>\n",
       "    </tr>\n",
       "  </tbody>\n",
       "</table>\n",
       "</div>"
      ],
      "text/plain": [
       "  Mouse ID Drug Regimen   Sex  Age_months  Weight (g)  Timepoint  \\\n",
       "0     k403     Ramicane  Male          21          16          0   \n",
       "1     k403     Ramicane  Male          21          16          5   \n",
       "2     k403     Ramicane  Male          21          16         10   \n",
       "3     k403     Ramicane  Male          21          16         15   \n",
       "4     k403     Ramicane  Male          21          16         20   \n",
       "\n",
       "   Tumor Volume (mm3)  Metastatic Sites  \n",
       "0           45.000000                 0  \n",
       "1           38.825898                 0  \n",
       "2           35.014271                 1  \n",
       "3           34.223992                 1  \n",
       "4           32.997729                 1  "
      ]
     },
     "execution_count": 1,
     "metadata": {},
     "output_type": "execute_result"
    }
   ],
   "source": [
    "# Dependencies and Setup\n",
    "import matplotlib.pyplot as plt\n",
    "import pandas as pd\n",
    "import scipy.stats as st\n",
    "import numpy as np\n",
    "from matplotlib import cm\n",
    "from scipy.stats import linregress\n",
    "import seaborn as sns\n",
    "\n",
    "\n",
    "# %matplotlib notebook\n",
    "\n",
    "# Study data files\n",
    "mouse_metadata_path = \"data/Mouse_metadata.csv\"\n",
    "study_results_path = \"data/Study_results.csv\"\n",
    "\n",
    "# Read the mouse data and the study results\n",
    "mouse_metadata = pd.read_csv(mouse_metadata_path)\n",
    "study_results = pd.read_csv(study_results_path)\n",
    "\n",
    "# Combine the data into a single dataset\n",
    "mouse_data = pd.merge(mouse_metadata, study_results, on=\"Mouse ID\", how=\"outer\")\n",
    "\n",
    "# Display the data table for preview\n",
    "mouse_data.head()\n",
    "\n",
    "# mouse_metadata"
   ]
  },
  {
   "cell_type": "code",
   "execution_count": 2,
   "metadata": {},
   "outputs": [
    {
     "data": {
      "text/plain": [
       "249"
      ]
     },
     "execution_count": 2,
     "metadata": {},
     "output_type": "execute_result"
    }
   ],
   "source": [
    "# Checking the number of mice.\n",
    "mice_number = len(mouse_data[\"Mouse ID\"].value_counts())\n",
    "mice_number"
   ]
  },
  {
   "cell_type": "code",
   "execution_count": 3,
   "metadata": {},
   "outputs": [
    {
     "name": "stdout",
     "output_type": "stream",
     "text": [
      "g989    5\n",
      "Name: Mouse ID, dtype: int64\n"
     ]
    },
    {
     "data": {
      "text/html": [
       "<div>\n",
       "<style scoped>\n",
       "    .dataframe tbody tr th:only-of-type {\n",
       "        vertical-align: middle;\n",
       "    }\n",
       "\n",
       "    .dataframe tbody tr th {\n",
       "        vertical-align: top;\n",
       "    }\n",
       "\n",
       "    .dataframe thead th {\n",
       "        text-align: right;\n",
       "    }\n",
       "</style>\n",
       "<table border=\"1\" class=\"dataframe\">\n",
       "  <thead>\n",
       "    <tr style=\"text-align: right;\">\n",
       "      <th></th>\n",
       "      <th>Mouse ID</th>\n",
       "      <th>Drug Regimen</th>\n",
       "      <th>Sex</th>\n",
       "      <th>Age_months</th>\n",
       "      <th>Weight (g)</th>\n",
       "      <th>Timepoint</th>\n",
       "      <th>Tumor Volume (mm3)</th>\n",
       "      <th>Metastatic Sites</th>\n",
       "    </tr>\n",
       "  </thead>\n",
       "  <tbody>\n",
       "    <tr>\n",
       "      <th>909</th>\n",
       "      <td>g989</td>\n",
       "      <td>Propriva</td>\n",
       "      <td>Female</td>\n",
       "      <td>21</td>\n",
       "      <td>26</td>\n",
       "      <td>0</td>\n",
       "      <td>45.000000</td>\n",
       "      <td>0</td>\n",
       "    </tr>\n",
       "    <tr>\n",
       "      <th>911</th>\n",
       "      <td>g989</td>\n",
       "      <td>Propriva</td>\n",
       "      <td>Female</td>\n",
       "      <td>21</td>\n",
       "      <td>26</td>\n",
       "      <td>5</td>\n",
       "      <td>47.570392</td>\n",
       "      <td>0</td>\n",
       "    </tr>\n",
       "    <tr>\n",
       "      <th>913</th>\n",
       "      <td>g989</td>\n",
       "      <td>Propriva</td>\n",
       "      <td>Female</td>\n",
       "      <td>21</td>\n",
       "      <td>26</td>\n",
       "      <td>10</td>\n",
       "      <td>49.880528</td>\n",
       "      <td>0</td>\n",
       "    </tr>\n",
       "    <tr>\n",
       "      <th>915</th>\n",
       "      <td>g989</td>\n",
       "      <td>Propriva</td>\n",
       "      <td>Female</td>\n",
       "      <td>21</td>\n",
       "      <td>26</td>\n",
       "      <td>15</td>\n",
       "      <td>53.442020</td>\n",
       "      <td>0</td>\n",
       "    </tr>\n",
       "    <tr>\n",
       "      <th>917</th>\n",
       "      <td>g989</td>\n",
       "      <td>Propriva</td>\n",
       "      <td>Female</td>\n",
       "      <td>21</td>\n",
       "      <td>26</td>\n",
       "      <td>20</td>\n",
       "      <td>54.657650</td>\n",
       "      <td>1</td>\n",
       "    </tr>\n",
       "  </tbody>\n",
       "</table>\n",
       "</div>"
      ],
      "text/plain": [
       "    Mouse ID Drug Regimen     Sex  Age_months  Weight (g)  Timepoint  \\\n",
       "909     g989     Propriva  Female          21          26          0   \n",
       "911     g989     Propriva  Female          21          26          5   \n",
       "913     g989     Propriva  Female          21          26         10   \n",
       "915     g989     Propriva  Female          21          26         15   \n",
       "917     g989     Propriva  Female          21          26         20   \n",
       "\n",
       "     Tumor Volume (mm3)  Metastatic Sites  \n",
       "909           45.000000                 0  \n",
       "911           47.570392                 0  \n",
       "913           49.880528                 0  \n",
       "915           53.442020                 0  \n",
       "917           54.657650                 1  "
      ]
     },
     "execution_count": 3,
     "metadata": {},
     "output_type": "execute_result"
    }
   ],
   "source": [
    "# Getting the duplicate mice by ID number that shows up for Mouse ID and Timepoint. \n",
    "dup_df = mouse_data[mouse_data.duplicated([\"Mouse ID\", \"Timepoint\"])]\n",
    "\n",
    "print(dup_df[\"Mouse ID\"].value_counts())\n",
    "dup_df"
   ]
  },
  {
   "cell_type": "code",
   "execution_count": 4,
   "metadata": {},
   "outputs": [
    {
     "name": "stdout",
     "output_type": "stream",
     "text": [
      "g989    1\n",
      "Name: Mouse ID, dtype: int64\n"
     ]
    },
    {
     "data": {
      "text/html": [
       "<div>\n",
       "<style scoped>\n",
       "    .dataframe tbody tr th:only-of-type {\n",
       "        vertical-align: middle;\n",
       "    }\n",
       "\n",
       "    .dataframe tbody tr th {\n",
       "        vertical-align: top;\n",
       "    }\n",
       "\n",
       "    .dataframe thead th {\n",
       "        text-align: right;\n",
       "    }\n",
       "</style>\n",
       "<table border=\"1\" class=\"dataframe\">\n",
       "  <thead>\n",
       "    <tr style=\"text-align: right;\">\n",
       "      <th></th>\n",
       "      <th>Mouse ID</th>\n",
       "      <th>Drug Regimen</th>\n",
       "      <th>Sex</th>\n",
       "      <th>Age_months</th>\n",
       "      <th>Weight (g)</th>\n",
       "      <th>Timepoint</th>\n",
       "      <th>Tumor Volume (mm3)</th>\n",
       "      <th>Metastatic Sites</th>\n",
       "    </tr>\n",
       "  </thead>\n",
       "  <tbody>\n",
       "    <tr>\n",
       "      <th>909</th>\n",
       "      <td>g989</td>\n",
       "      <td>Propriva</td>\n",
       "      <td>Female</td>\n",
       "      <td>21</td>\n",
       "      <td>26</td>\n",
       "      <td>0</td>\n",
       "      <td>45.0</td>\n",
       "      <td>0</td>\n",
       "    </tr>\n",
       "  </tbody>\n",
       "</table>\n",
       "</div>"
      ],
      "text/plain": [
       "    Mouse ID Drug Regimen     Sex  Age_months  Weight (g)  Timepoint  \\\n",
       "909     g989     Propriva  Female          21          26          0   \n",
       "\n",
       "     Tumor Volume (mm3)  Metastatic Sites  \n",
       "909                45.0                 0  "
      ]
     },
     "execution_count": 4,
     "metadata": {},
     "output_type": "execute_result"
    }
   ],
   "source": [
    "# Optional: Get all the data for the duplicate mouse ID. \n",
    "dup_df2 = mouse_data[mouse_data.duplicated()]\n",
    "print(dup_df2[\"Mouse ID\"].value_counts())\n",
    "\n",
    "dup_df2"
   ]
  },
  {
   "cell_type": "code",
   "execution_count": 5,
   "metadata": {
    "scrolled": true
   },
   "outputs": [
    {
     "data": {
      "text/html": [
       "<div>\n",
       "<style scoped>\n",
       "    .dataframe tbody tr th:only-of-type {\n",
       "        vertical-align: middle;\n",
       "    }\n",
       "\n",
       "    .dataframe tbody tr th {\n",
       "        vertical-align: top;\n",
       "    }\n",
       "\n",
       "    .dataframe thead th {\n",
       "        text-align: right;\n",
       "    }\n",
       "</style>\n",
       "<table border=\"1\" class=\"dataframe\">\n",
       "  <thead>\n",
       "    <tr style=\"text-align: right;\">\n",
       "      <th></th>\n",
       "      <th>Mouse ID</th>\n",
       "      <th>Drug Regimen</th>\n",
       "      <th>Sex</th>\n",
       "      <th>Age_months</th>\n",
       "      <th>Weight (g)</th>\n",
       "      <th>Timepoint</th>\n",
       "      <th>Tumor Volume (mm3)</th>\n",
       "      <th>Metastatic Sites</th>\n",
       "    </tr>\n",
       "  </thead>\n",
       "  <tbody>\n",
       "    <tr>\n",
       "      <th>0</th>\n",
       "      <td>k403</td>\n",
       "      <td>Ramicane</td>\n",
       "      <td>Male</td>\n",
       "      <td>21</td>\n",
       "      <td>16</td>\n",
       "      <td>0</td>\n",
       "      <td>45.000000</td>\n",
       "      <td>0</td>\n",
       "    </tr>\n",
       "    <tr>\n",
       "      <th>1</th>\n",
       "      <td>k403</td>\n",
       "      <td>Ramicane</td>\n",
       "      <td>Male</td>\n",
       "      <td>21</td>\n",
       "      <td>16</td>\n",
       "      <td>5</td>\n",
       "      <td>38.825898</td>\n",
       "      <td>0</td>\n",
       "    </tr>\n",
       "    <tr>\n",
       "      <th>2</th>\n",
       "      <td>k403</td>\n",
       "      <td>Ramicane</td>\n",
       "      <td>Male</td>\n",
       "      <td>21</td>\n",
       "      <td>16</td>\n",
       "      <td>10</td>\n",
       "      <td>35.014271</td>\n",
       "      <td>1</td>\n",
       "    </tr>\n",
       "    <tr>\n",
       "      <th>3</th>\n",
       "      <td>k403</td>\n",
       "      <td>Ramicane</td>\n",
       "      <td>Male</td>\n",
       "      <td>21</td>\n",
       "      <td>16</td>\n",
       "      <td>15</td>\n",
       "      <td>34.223992</td>\n",
       "      <td>1</td>\n",
       "    </tr>\n",
       "    <tr>\n",
       "      <th>4</th>\n",
       "      <td>k403</td>\n",
       "      <td>Ramicane</td>\n",
       "      <td>Male</td>\n",
       "      <td>21</td>\n",
       "      <td>16</td>\n",
       "      <td>20</td>\n",
       "      <td>32.997729</td>\n",
       "      <td>1</td>\n",
       "    </tr>\n",
       "  </tbody>\n",
       "</table>\n",
       "</div>"
      ],
      "text/plain": [
       "  Mouse ID Drug Regimen   Sex  Age_months  Weight (g)  Timepoint  \\\n",
       "0     k403     Ramicane  Male          21          16          0   \n",
       "1     k403     Ramicane  Male          21          16          5   \n",
       "2     k403     Ramicane  Male          21          16         10   \n",
       "3     k403     Ramicane  Male          21          16         15   \n",
       "4     k403     Ramicane  Male          21          16         20   \n",
       "\n",
       "   Tumor Volume (mm3)  Metastatic Sites  \n",
       "0           45.000000                 0  \n",
       "1           38.825898                 0  \n",
       "2           35.014271                 1  \n",
       "3           34.223992                 1  \n",
       "4           32.997729                 1  "
      ]
     },
     "execution_count": 5,
     "metadata": {},
     "output_type": "execute_result"
    }
   ],
   "source": [
    "# Create a clean DataFrame by dropping the duplicate mouse by its ID.\n",
    "clean_data = mouse_data.drop_duplicates(subset=['Mouse ID', 'Timepoint'])\n",
    "clean_data.head()"
   ]
  },
  {
   "cell_type": "code",
   "execution_count": 6,
   "metadata": {},
   "outputs": [
    {
     "data": {
      "text/plain": [
       "249"
      ]
     },
     "execution_count": 6,
     "metadata": {},
     "output_type": "execute_result"
    }
   ],
   "source": [
    "# Checking the number of mice in the clean DataFrame.\n",
    "len(clean_data[\"Mouse ID\"].value_counts())"
   ]
  },
  {
   "cell_type": "markdown",
   "metadata": {},
   "source": [
    "## Summary Statistics"
   ]
  },
  {
   "cell_type": "code",
   "execution_count": 7,
   "metadata": {},
   "outputs": [
    {
     "name": "stdout",
     "output_type": "stream",
     "text": [
      "['Ramicane' 'Capomulin' 'Infubinol' 'Placebo' 'Ceftamin' 'Stelasyn'\n",
      " 'Zoniferol' 'Ketapril' 'Propriva' 'Naftisol']\n"
     ]
    }
   ],
   "source": [
    "drug_df = clean_data[\"Drug Regimen\"].unique()\n",
    "print(drug_df)\n",
    "\n",
    "data = clean_data.set_index(\"Drug Regimen\")"
   ]
  },
  {
   "cell_type": "code",
   "execution_count": 10,
   "metadata": {},
   "outputs": [
    {
     "data": {
      "text/html": [
       "<div>\n",
       "<style scoped>\n",
       "    .dataframe tbody tr th:only-of-type {\n",
       "        vertical-align: middle;\n",
       "    }\n",
       "\n",
       "    .dataframe tbody tr th {\n",
       "        vertical-align: top;\n",
       "    }\n",
       "\n",
       "    .dataframe thead th {\n",
       "        text-align: right;\n",
       "    }\n",
       "</style>\n",
       "<table border=\"1\" class=\"dataframe\">\n",
       "  <thead>\n",
       "    <tr style=\"text-align: right;\">\n",
       "      <th></th>\n",
       "      <th>Tumor Volume (mm3)</th>\n",
       "    </tr>\n",
       "    <tr>\n",
       "      <th>Drug Regimen</th>\n",
       "      <th></th>\n",
       "    </tr>\n",
       "  </thead>\n",
       "  <tbody>\n",
       "    <tr>\n",
       "      <th>Capomulin</th>\n",
       "      <td>0.329346</td>\n",
       "    </tr>\n",
       "    <tr>\n",
       "      <th>Ceftamin</th>\n",
       "      <td>0.469821</td>\n",
       "    </tr>\n",
       "    <tr>\n",
       "      <th>Infubinol</th>\n",
       "      <td>0.492236</td>\n",
       "    </tr>\n",
       "    <tr>\n",
       "      <th>Ketapril</th>\n",
       "      <td>0.603860</td>\n",
       "    </tr>\n",
       "    <tr>\n",
       "      <th>Naftisol</th>\n",
       "      <td>0.596466</td>\n",
       "    </tr>\n",
       "    <tr>\n",
       "      <th>Placebo</th>\n",
       "      <td>0.581331</td>\n",
       "    </tr>\n",
       "    <tr>\n",
       "      <th>Propriva</th>\n",
       "      <td>0.544332</td>\n",
       "    </tr>\n",
       "    <tr>\n",
       "      <th>Ramicane</th>\n",
       "      <td>0.320955</td>\n",
       "    </tr>\n",
       "    <tr>\n",
       "      <th>Stelasyn</th>\n",
       "      <td>0.573111</td>\n",
       "    </tr>\n",
       "    <tr>\n",
       "      <th>Zoniferol</th>\n",
       "      <td>0.516398</td>\n",
       "    </tr>\n",
       "  </tbody>\n",
       "</table>\n",
       "</div>"
      ],
      "text/plain": [
       "              Tumor Volume (mm3)\n",
       "Drug Regimen                    \n",
       "Capomulin               0.329346\n",
       "Ceftamin                0.469821\n",
       "Infubinol               0.492236\n",
       "Ketapril                0.603860\n",
       "Naftisol                0.596466\n",
       "Placebo                 0.581331\n",
       "Propriva                0.544332\n",
       "Ramicane                0.320955\n",
       "Stelasyn                0.573111\n",
       "Zoniferol               0.516398"
      ]
     },
     "metadata": {},
     "output_type": "display_data"
    },
    {
     "data": {
      "text/plain": [
       "Drug Regimen           object\n",
       "Tumor Volume (mm3)    float64\n",
       "dtype: object"
      ]
     },
     "execution_count": 10,
     "metadata": {},
     "output_type": "execute_result"
    }
   ],
   "source": [
    "# Generate a summary statistics table of mean, median, variance, standard deviation, and SEM of the tumor volume for each regimen\n",
    "\n",
    "tumor_response_error_df = pd.DataFrame(clean_study_data.groupby(['Drug Regimen'])['Tumor Volume (mm3)'].sem())\n",
    "# This method produces everything in a single groupby function\n",
    "\n",
    "display(tumor_response_error_df)\n",
    "\n",
    "tumor_response_mean_df.dtypes"
   ]
  },
  {
   "cell_type": "code",
   "execution_count": 8,
   "metadata": {
    "scrolled": true
   },
   "outputs": [
    {
     "data": {
      "text/html": [
       "<div>\n",
       "<style scoped>\n",
       "    .dataframe tbody tr th:only-of-type {\n",
       "        vertical-align: middle;\n",
       "    }\n",
       "\n",
       "    .dataframe tbody tr th {\n",
       "        vertical-align: top;\n",
       "    }\n",
       "\n",
       "    .dataframe thead th {\n",
       "        text-align: right;\n",
       "    }\n",
       "</style>\n",
       "<table border=\"1\" class=\"dataframe\">\n",
       "  <thead>\n",
       "    <tr style=\"text-align: right;\">\n",
       "      <th></th>\n",
       "      <th>Tumor Volume Mean</th>\n",
       "      <th>Tumor Volume Median</th>\n",
       "      <th>Tumor Volume Variance</th>\n",
       "      <th>Tumor Volume Standard Deviation</th>\n",
       "      <th>Tumor Volume SEM</th>\n",
       "    </tr>\n",
       "    <tr>\n",
       "      <th>Drug Regimen</th>\n",
       "      <th></th>\n",
       "      <th></th>\n",
       "      <th></th>\n",
       "      <th></th>\n",
       "      <th></th>\n",
       "    </tr>\n",
       "  </thead>\n",
       "  <tbody>\n",
       "    <tr>\n",
       "      <th>Ramicane</th>\n",
       "      <td>40.216745</td>\n",
       "      <td>40.673236</td>\n",
       "      <td>23.383692</td>\n",
       "      <td>4.835669</td>\n",
       "      <td>0.320955</td>\n",
       "    </tr>\n",
       "    <tr>\n",
       "      <th>Capomulin</th>\n",
       "      <td>40.675741</td>\n",
       "      <td>41.557809</td>\n",
       "      <td>24.839296</td>\n",
       "      <td>4.983904</td>\n",
       "      <td>0.329346</td>\n",
       "    </tr>\n",
       "    <tr>\n",
       "      <th>Infubinol</th>\n",
       "      <td>52.884795</td>\n",
       "      <td>51.820584</td>\n",
       "      <td>42.886388</td>\n",
       "      <td>6.548770</td>\n",
       "      <td>0.492236</td>\n",
       "    </tr>\n",
       "    <tr>\n",
       "      <th>Placebo</th>\n",
       "      <td>54.033581</td>\n",
       "      <td>52.288934</td>\n",
       "      <td>60.830138</td>\n",
       "      <td>7.799368</td>\n",
       "      <td>0.581331</td>\n",
       "    </tr>\n",
       "    <tr>\n",
       "      <th>Ceftamin</th>\n",
       "      <td>52.591172</td>\n",
       "      <td>51.776157</td>\n",
       "      <td>39.069446</td>\n",
       "      <td>6.250556</td>\n",
       "      <td>0.469821</td>\n",
       "    </tr>\n",
       "    <tr>\n",
       "      <th>Stelasyn</th>\n",
       "      <td>54.233149</td>\n",
       "      <td>52.431737</td>\n",
       "      <td>59.122106</td>\n",
       "      <td>7.689090</td>\n",
       "      <td>0.573111</td>\n",
       "    </tr>\n",
       "    <tr>\n",
       "      <th>Zoniferol</th>\n",
       "      <td>53.236507</td>\n",
       "      <td>51.818479</td>\n",
       "      <td>48.266689</td>\n",
       "      <td>6.947423</td>\n",
       "      <td>0.516398</td>\n",
       "    </tr>\n",
       "    <tr>\n",
       "      <th>Ketapril</th>\n",
       "      <td>55.235638</td>\n",
       "      <td>53.698743</td>\n",
       "      <td>68.188930</td>\n",
       "      <td>8.257659</td>\n",
       "      <td>0.603860</td>\n",
       "    </tr>\n",
       "    <tr>\n",
       "      <th>Propriva</th>\n",
       "      <td>52.393463</td>\n",
       "      <td>50.909965</td>\n",
       "      <td>42.862273</td>\n",
       "      <td>6.546928</td>\n",
       "      <td>0.525862</td>\n",
       "    </tr>\n",
       "    <tr>\n",
       "      <th>Naftisol</th>\n",
       "      <td>54.331565</td>\n",
       "      <td>52.509285</td>\n",
       "      <td>65.817708</td>\n",
       "      <td>8.112811</td>\n",
       "      <td>0.596466</td>\n",
       "    </tr>\n",
       "  </tbody>\n",
       "</table>\n",
       "</div>"
      ],
      "text/plain": [
       "              Tumor Volume Mean  Tumor Volume Median  Tumor Volume Variance  \\\n",
       "Drug Regimen                                                                  \n",
       "Ramicane              40.216745            40.673236              23.383692   \n",
       "Capomulin             40.675741            41.557809              24.839296   \n",
       "Infubinol             52.884795            51.820584              42.886388   \n",
       "Placebo               54.033581            52.288934              60.830138   \n",
       "Ceftamin              52.591172            51.776157              39.069446   \n",
       "Stelasyn              54.233149            52.431737              59.122106   \n",
       "Zoniferol             53.236507            51.818479              48.266689   \n",
       "Ketapril              55.235638            53.698743              68.188930   \n",
       "Propriva              52.393463            50.909965              42.862273   \n",
       "Naftisol              54.331565            52.509285              65.817708   \n",
       "\n",
       "              Tumor Volume Standard Deviation  Tumor Volume SEM  \n",
       "Drug Regimen                                                     \n",
       "Ramicane                             4.835669          0.320955  \n",
       "Capomulin                            4.983904          0.329346  \n",
       "Infubinol                            6.548770          0.492236  \n",
       "Placebo                              7.799368          0.581331  \n",
       "Ceftamin                             6.250556          0.469821  \n",
       "Stelasyn                             7.689090          0.573111  \n",
       "Zoniferol                            6.947423          0.516398  \n",
       "Ketapril                             8.257659          0.603860  \n",
       "Propriva                             6.546928          0.525862  \n",
       "Naftisol                             8.112811          0.596466  "
      ]
     },
     "execution_count": 8,
     "metadata": {},
     "output_type": "execute_result"
    }
   ],
   "source": [
    "# Generate a summary statistics table of mean, median, variance, standard deviation, and SEM of the tumor volume for each regimen\n",
    "\n",
    "# This method is the most straighforward, creating multiple series and putting them all together at the end.\n",
    "\n",
    "ram_df = data.loc[\"Ramicane\", \"Tumor Volume (mm3)\"]\n",
    "cap_df = data.loc[\"Capomulin\", \"Tumor Volume (mm3)\"]\n",
    "inf_df = data.loc[\"Infubinol\", \"Tumor Volume (mm3)\"]\n",
    "pla_df = data.loc[\"Placebo\", \"Tumor Volume (mm3)\"]\n",
    "cef_df = data.loc[\"Ceftamin\", \"Tumor Volume (mm3)\"]\n",
    "ste_df = data.loc[\"Stelasyn\", \"Tumor Volume (mm3)\"]\n",
    "zon_df = data.loc[\"Zoniferol\", \"Tumor Volume (mm3)\"]\n",
    "ket_df = data.loc[\"Ketapril\", \"Tumor Volume (mm3)\"]\n",
    "pro_df = data.loc[\"Propriva\", \"Tumor Volume (mm3)\"]\n",
    "naf_df = data.loc[\"Naftisol\", \"Tumor Volume (mm3)\"]\n",
    "\n",
    "\n",
    "tumor_vol_mean = [np.mean(ram_df), np.mean(cap_df), np.mean(inf_df), np.mean(pla_df), np.mean(cef_df),\n",
    "                  np.mean(ste_df), np.mean(zon_df), np.mean(ket_df), np.mean(pro_df), np.mean(naf_df)]\n",
    "\n",
    "tumor_vol_median = [np.median(ram_df), np.median(cap_df), np.median(inf_df), np.median(pla_df), np.median(cef_df),\n",
    "                    np.median(ste_df), np.median(zon_df), np.median(ket_df), np.median(pro_df), np.median(naf_df)]\n",
    "\n",
    "tumor_vol_var = [np.var(ram_df), np.var(cap_df), np.var(inf_df), np.var(pla_df), np.var(cef_df),\n",
    "                 np.var(ste_df), np.var(zon_df), np.var(ket_df), np.var(pro_df), np.var(naf_df)]\n",
    "\n",
    "tumor_vol_std = [np.std(ram_df), np.std(cap_df), np.std(inf_df), np.std(pla_df), np.std(cef_df),\n",
    "                 np.std(ste_df), np.std(zon_df), np.std(ket_df), np.std(pro_df), np.std(naf_df)]\n",
    "\n",
    "tumor_vol_sem = [ram_df.sem(), cap_df.sem(), inf_df.sem(), pla_df.sem(), cef_df.sem(),\n",
    "                 ste_df.sem(), zon_df.sem(), ket_df.sem(), pro_df.sem(), naf_df.sem()]\n",
    "\n",
    "\n",
    "\n",
    "summary_table1 = pd.DataFrame({\"Tumor Volume Mean\": tumor_vol_mean,\n",
    "                              \"Tumor Volume Median\": tumor_vol_median,\n",
    "                              \"Tumor Volume Variance\": tumor_vol_var,\n",
    "                              \"Tumor Volume Standard Deviation\": tumor_vol_std,\n",
    "                              \"Tumor Volume SEM\": tumor_vol_sem,\n",
    "                              \"Drug Regimen\": drug_df})\n",
    "\n",
    "summary_table1.set_index(\"Drug Regimen\")"
   ]
  },
  {
   "cell_type": "code",
   "execution_count": 22,
   "metadata": {},
   "outputs": [
    {
     "ename": "TypeError",
     "evalue": "aggregate() missing 1 required positional argument: 'func_or_funcs'",
     "output_type": "error",
     "traceback": [
      "\u001b[1;31m---------------------------------------------------------------------------\u001b[0m",
      "\u001b[1;31mTypeError\u001b[0m                                 Traceback (most recent call last)",
      "\u001b[1;32m<ipython-input-22-41040f70eb8d>\u001b[0m in \u001b[0;36m<module>\u001b[1;34m\u001b[0m\n\u001b[0;32m      9\u001b[0m                                                 \u001b[0mTumor_Volume_Variance\u001b[0m \u001b[1;33m=\u001b[0m \u001b[0mnp\u001b[0m\u001b[1;33m.\u001b[0m\u001b[0mvar\u001b[0m\u001b[1;33m,\u001b[0m\u001b[1;33m\u001b[0m\u001b[1;33m\u001b[0m\u001b[0m\n\u001b[0;32m     10\u001b[0m                                                 \u001b[0mTumor_Volume_Standard_Deviation\u001b[0m \u001b[1;33m=\u001b[0m \u001b[0mnp\u001b[0m\u001b[1;33m.\u001b[0m\u001b[0mstd\u001b[0m\u001b[1;33m,\u001b[0m\u001b[1;33m\u001b[0m\u001b[1;33m\u001b[0m\u001b[0m\n\u001b[1;32m---> 11\u001b[1;33m                                                 Tumor_Volume_SEM = st.sem)\n\u001b[0m\u001b[0;32m     12\u001b[0m \u001b[0mtumor_group\u001b[0m\u001b[1;33m\u001b[0m\u001b[1;33m\u001b[0m\u001b[0m\n",
      "\u001b[1;31mTypeError\u001b[0m: aggregate() missing 1 required positional argument: 'func_or_funcs'"
     ]
    }
   ],
   "source": [
    "# Generate a summary statistics table of mean, median, variance, standard deviation, and SEM of the tumor volume for each regimen\n",
    "\n",
    "# This method produces everything in a single groupby function\n",
    "\n",
    "  \n",
    "tumor_group = clean_data.groupby(\"Drug Regimen\")['Tumor Volume (mm3)'].agg(\n",
    "                                                Tumor_Volume_Mean= np.mean,\n",
    "                                                Tumor_Volume_Median = np.median,\n",
    "                                                Tumor_Volume_Variance = np.var,\n",
    "                                                Tumor_Volume_Standard_Deviation = np.std,\n",
    "                                                Tumor_Volume_SEM = st.sem)\n",
    "tumor_group"
   ]
  },
  {
   "cell_type": "markdown",
   "metadata": {},
   "source": [
    "## Bar and Pie Charts"
   ]
  },
  {
   "cell_type": "code",
   "execution_count": 11,
   "metadata": {},
   "outputs": [
    {
     "data": {
      "text/plain": [
       "<matplotlib.legend.Legend at 0x28746cf0e80>"
      ]
     },
     "execution_count": 11,
     "metadata": {},
     "output_type": "execute_result"
    },
    {
     "data": {
      "image/png": "[encoded data removed]",
      "text/plain": [
       "<Figure size 864x360 with 1 Axes>"
      ]
     },
     "metadata": {
      "needs_background": "light"
     },
     "output_type": "display_data"
    }
   ],
   "source": [
    "# Generate a bar plot showing the total number of mice for each treatment throughout the course of the study using pandas. \n",
    "\n",
    "bar_pd = clean_data[\"Drug Regimen\"].value_counts()\n",
    "\n",
    "bar_pd.plot(kind=\"bar\", color=\"blue\", alpha=0.7, rot=60, width=0.6, label=\"Mice Count\", figsize=(12,5))\n",
    "plt.xlabel(\"Drug Regimen\")\n",
    "plt.ylabel(\"Count of mice\")\n",
    "plt.title(\"Total Number of Mice per Treatment\")\n",
    "plt.tight_layout()\n",
    "plt.legend()\n",
    "\n"
   ]
  },
  {
   "cell_type": "code",
   "execution_count": 12,
   "metadata": {},
   "outputs": [
    {
     "data": {
      "image/png": "[encoded data removed]",
      "text/plain": [
       "<Figure size 864x360 with 1 Axes>"
      ]
     },
     "metadata": {
      "needs_background": "light"
     },
     "output_type": "display_data"
    }
   ],
   "source": [
    "\n",
    "x_axis = clean_data[\"Drug Regimen\"].unique()\n",
    "y_axis = clean_data[\"Drug Regimen\"].value_counts()\n",
    "\n",
    "plt.figure(figsize=(12,5))\n",
    "plt.bar(x_axis, y_axis, color=\"blue\", alpha=0.7, width=0.7, label=\"Mice Count\")\n",
    "plt.xticks(rotation=60)\n",
    "plt.xlabel(\"Drug Regimen\")\n",
    "plt.ylabel(\"Count of mice\")\n",
    "plt.title(\"Total Number of Mice per Treatment\")\n",
    "plt.tight_layout()\n",
    "plt.legend()\n",
    "plt.show()\n"
   ]
  },
  {
   "cell_type": "code",
   "execution_count": 13,
   "metadata": {},
   "outputs": [
    {
     "name": "stdout",
     "output_type": "stream",
     "text": [
      "Male      958\n",
      "Female    930\n",
      "Name: Sex, dtype: int64\n"
     ]
    },
    {
     "data": {
      "image/png": "[encoded data removed]",
      "text/plain": [
       "<Figure size 864x360 with 1 Axes>"
      ]
     },
     "metadata": {},
     "output_type": "display_data"
    }
   ],
   "source": [
    "# Generate a pie plot showing the distribution of female versus male mice using pandas\n",
    "pie_sex = clean_data[\"Sex\"].value_counts()\n",
    "\n",
    "\n",
    "pie_sex.plot(kind=\"pie\", explode=(0,0.1), startangle=90, shadow=True, autopct='%1.1f%%', figsize=(12,5))\n",
    "plt.xlabel(\"Drug Regimen\")\n",
    "plt.title(\"Distribution of Female vs Male mice\")\n",
    "plt.tight_layout()\n",
    "plt.legend()\n",
    "plt.axis(\"equal\")\n",
    "print(pie_sex)"
   ]
  },
  {
   "cell_type": "code",
   "execution_count": 14,
   "metadata": {},
   "outputs": [
    {
     "name": "stdout",
     "output_type": "stream",
     "text": [
      "Male      958\n",
      "Female    930\n",
      "Name: Sex, dtype: int64\n"
     ]
    },
    {
     "data": {
      "image/png": "[encoded data removed]",
      "text/plain": [
       "<Figure size 864x360 with 1 Axes>"
      ]
     },
     "metadata": {},
     "output_type": "display_data"
    }
   ],
   "source": [
    "# Generate a pie plot showing the distribution of female versus male mice using pyplot\n",
    "pie_sex_py = clean_data[\"Sex\"].value_counts()\n",
    "labels = clean_data[\"Sex\"].unique()\n",
    "\n",
    "plt.figure(figsize=(12,5))\n",
    "plt.pie(pie_sex_py, labels=labels, explode=(0,0.1), startangle=90, shadow=True, autopct='%1.1f%%')\n",
    "plt.xlabel(\"Drug Regimen\")\n",
    "plt.title(\"Distribution of Female vs Male mice\")\n",
    "plt.tight_layout()\n",
    "plt.legend()\n",
    "plt.axis(\"equal\")\n",
    "print(pie_sex)"
   ]
  },
  {
   "cell_type": "markdown",
   "metadata": {},
   "source": [
    "## Quartiles, Outliers and Boxplots"
   ]
  },
  {
   "cell_type": "code",
   "execution_count": 16,
   "metadata": {},
   "outputs": [
    {
     "data": {
      "text/html": [
       "<div>\n",
       "<style scoped>\n",
       "    .dataframe tbody tr th:only-of-type {\n",
       "        vertical-align: middle;\n",
       "    }\n",
       "\n",
       "    .dataframe tbody tr th {\n",
       "        vertical-align: top;\n",
       "    }\n",
       "\n",
       "    .dataframe thead th {\n",
       "        text-align: right;\n",
       "    }\n",
       "</style>\n",
       "<table border=\"1\" class=\"dataframe\">\n",
       "  <thead>\n",
       "    <tr style=\"text-align: right;\">\n",
       "      <th></th>\n",
       "      <th>Mouse ID</th>\n",
       "      <th>Drug Regimen</th>\n",
       "      <th>Sex</th>\n",
       "      <th>Age_months</th>\n",
       "      <th>Weight (g)</th>\n",
       "      <th>Tumor Volume (mm3)</th>\n",
       "      <th>Timepoint</th>\n",
       "    </tr>\n",
       "  </thead>\n",
       "  <tbody>\n",
       "    <tr>\n",
       "      <th>0</th>\n",
       "      <td>k403</td>\n",
       "      <td>Ramicane</td>\n",
       "      <td>Male</td>\n",
       "      <td>21</td>\n",
       "      <td>16</td>\n",
       "      <td>22.050126</td>\n",
       "      <td>45</td>\n",
       "    </tr>\n",
       "    <tr>\n",
       "      <th>1</th>\n",
       "      <td>s185</td>\n",
       "      <td>Capomulin</td>\n",
       "      <td>Female</td>\n",
       "      <td>3</td>\n",
       "      <td>17</td>\n",
       "      <td>23.343598</td>\n",
       "      <td>45</td>\n",
       "    </tr>\n",
       "    <tr>\n",
       "      <th>2</th>\n",
       "      <td>x401</td>\n",
       "      <td>Capomulin</td>\n",
       "      <td>Female</td>\n",
       "      <td>16</td>\n",
       "      <td>15</td>\n",
       "      <td>28.484033</td>\n",
       "      <td>45</td>\n",
       "    </tr>\n",
       "    <tr>\n",
       "      <th>3</th>\n",
       "      <td>m601</td>\n",
       "      <td>Capomulin</td>\n",
       "      <td>Male</td>\n",
       "      <td>22</td>\n",
       "      <td>17</td>\n",
       "      <td>28.430964</td>\n",
       "      <td>45</td>\n",
       "    </tr>\n",
       "    <tr>\n",
       "      <th>4</th>\n",
       "      <td>g791</td>\n",
       "      <td>Ramicane</td>\n",
       "      <td>Male</td>\n",
       "      <td>11</td>\n",
       "      <td>16</td>\n",
       "      <td>29.128472</td>\n",
       "      <td>45</td>\n",
       "    </tr>\n",
       "  </tbody>\n",
       "</table>\n",
       "</div>"
      ],
      "text/plain": [
       "  Mouse ID Drug Regimen     Sex  Age_months  Weight (g)  Tumor Volume (mm3)  \\\n",
       "0     k403     Ramicane    Male          21          16           22.050126   \n",
       "1     s185    Capomulin  Female           3          17           23.343598   \n",
       "2     x401    Capomulin  Female          16          15           28.484033   \n",
       "3     m601    Capomulin    Male          22          17           28.430964   \n",
       "4     g791     Ramicane    Male          11          16           29.128472   \n",
       "\n",
       "   Timepoint  \n",
       "0         45  \n",
       "1         45  \n",
       "2         45  \n",
       "3         45  \n",
       "4         45  "
      ]
     },
     "execution_count": 16,
     "metadata": {},
     "output_type": "execute_result"
    }
   ],
   "source": [
    "# Capomulin, Ramicane, Infubinol, and Ceftamin\n",
    "reg_df = clean_data.set_index(\"Drug Regimen\")[[\"Mouse ID\", \"Tumor Volume (mm3)\", \"Timepoint\"]]\n",
    "select_reg = reg_df.loc[[\"Capomulin\", \"Ramicane\", \"Infubinol\", \"Ceftamin\"], :]\n",
    "\n",
    "# Start by getting the last (greatest) timepoint for each mouse\n",
    "final_volume = select_reg.drop_duplicates(subset = \"Mouse ID\", keep='last')\n",
    "final_df = final_volume.reset_index()\n",
    "\n",
    "del final_df[\"Drug Regimen\"]\n",
    "\n",
    "\n",
    "# Merge this group df with the original dataframe to get the tumor volume at the last timepoint\n",
    "merge_df = pd.merge(mouse_metadata, final_df, on=\"Mouse ID\")\n",
    "merge_df.head()"
   ]
  },
  {
   "cell_type": "code",
   "execution_count": 17,
   "metadata": {},
   "outputs": [
    {
     "name": "stdout",
     "output_type": "stream",
     "text": [
      "---------------Capomulin Treatment------------------\n",
      "The lower quartile of temperatures is: 32.38\n",
      "The upper quartile of temperatures is: 40.16\n",
      "The interquartile range of temperatures is: 7.78\n",
      "The median of temperatures is: 38.13 \n",
      "Values below 20.71 could be outliers.\n",
      "Values above 51.83 could be outliers.\n",
      "The potential outliers is: \n",
      "Empty DataFrame\n",
      "Columns: [Drug Regimen, Tumor Volume (mm3)]\n",
      "Index: []\n",
      "----------------------------------------------------\n",
      "----------------Ramicane Treatment------------------\n",
      "The lower quartile of temperatures is: 31.56\n",
      "The upper quartile of temperatures is: 40.66\n",
      "The interquartile range of temperatures is: 9.1\n",
      "The median of temperatures is: 36.56 \n",
      "Values below 17.91 could be outliers.\n",
      "Values above 54.31 could be outliers.\n",
      "The potential outliers is: \n",
      "Empty DataFrame\n",
      "Columns: [Drug Regimen, Tumor Volume (mm3)]\n",
      "Index: []\n",
      "----------------------------------------------------\n",
      "----------------Ceftamin Treatment------------------\n",
      "The lower quartile of temperatures is: 48.72\n",
      "The upper quartile of temperatures is: 64.3\n",
      "The interquartile range of temperatures is: 15.58\n",
      "The median of temperatures is: 59.85 \n",
      "Values below 25.35 could be outliers.\n",
      "Values above 87.67 could be outliers.\n",
      "The potential outliers is: \n",
      "Empty DataFrame\n",
      "Columns: [Drug Regimen, Tumor Volume (mm3)]\n",
      "Index: []\n",
      "----------------------------------------------------\n",
      "----------------Infubinol Treatment------------------\n",
      "The lower quartile of temperatures is: 54.05\n",
      "The upper quartile of temperatures is: 65.53\n",
      "The interquartile range of temperatures is: 11.48\n",
      "The median of temperatures is: 60.17 \n",
      "Values below 36.83 could be outliers.\n",
      "Values above 82.75 could be outliers.\n",
      "The potential outliers is:    Drug Regimen  Tumor Volume (mm3)\n",
      "58    Infubinol           36.321346\n",
      "----------------------------------------------------\n",
      "                                                      \n",
      "The potential outliers from all four Drug Regimen is: \n"
     ]
    },
    {
     "data": {
      "text/html": [
       "<div>\n",
       "<style scoped>\n",
       "    .dataframe tbody tr th:only-of-type {\n",
       "        vertical-align: middle;\n",
       "    }\n",
       "\n",
       "    .dataframe tbody tr th {\n",
       "        vertical-align: top;\n",
       "    }\n",
       "\n",
       "    .dataframe thead th {\n",
       "        text-align: right;\n",
       "    }\n",
       "</style>\n",
       "<table border=\"1\" class=\"dataframe\">\n",
       "  <thead>\n",
       "    <tr style=\"text-align: right;\">\n",
       "      <th></th>\n",
       "      <th>Drug Regimen</th>\n",
       "      <th>Tumor Volume (mm3)</th>\n",
       "    </tr>\n",
       "  </thead>\n",
       "  <tbody>\n",
       "    <tr>\n",
       "      <th>58</th>\n",
       "      <td>Infubinol</td>\n",
       "      <td>36.321346</td>\n",
       "    </tr>\n",
       "  </tbody>\n",
       "</table>\n",
       "</div>"
      ],
      "text/plain": [
       "   Drug Regimen  Tumor Volume (mm3)\n",
       "58    Infubinol           36.321346"
      ]
     },
     "execution_count": 17,
     "metadata": {},
     "output_type": "execute_result"
    }
   ],
   "source": [
    "# Put treatments into a list for for loop (and later for plot labels)\n",
    "treat_df = merge_df[\"Drug Regimen\"]\n",
    "treat_list = treat_df.tolist()\n",
    "\n",
    "# Create empty list to fill with tumor vol data (for plotting)\n",
    "tumor_df = merge_df[\"Tumor Volume (mm3)\"]\n",
    "data_df = pd.DataFrame({\"Drug Regimen\": treat_list,\n",
    "                       \"Tumor Volume (mm3)\": tumor_df})\n",
    "\n",
    "# Calculate the IQR and quantitatively determine if there are any potential outliers. \n",
    "\n",
    "\n",
    "    # Locate the rows which contain mice on each drug and get the tumor volumes\n",
    "cap_plot = data_df[(data_df[\"Drug Regimen\"] == \"Capomulin\")]\n",
    "ram_plot = data_df[(data_df[\"Drug Regimen\"] == \"Ramicane\")]\n",
    "cef_plot = data_df[(data_df[\"Drug Regimen\"] == \"Ceftamin\")]\n",
    "inf_plot = data_df[(data_df[\"Drug Regimen\"] == \"Infubinol\")]\n",
    "    \n",
    "    # add subset \n",
    "cap_tmv = cap_plot[\"Tumor Volume (mm3)\"]\n",
    "ram_tmv = ram_plot[\"Tumor Volume (mm3)\"]\n",
    "cef_tmv = cef_plot[\"Tumor Volume (mm3)\"]\n",
    "inf_tmv = inf_plot[\"Tumor Volume (mm3)\"]\n",
    "        \n",
    "\n",
    "    # Determine outliers using upper and lower bounds\n",
    "\n",
    "# For Capomulin\n",
    "cap_quartiles = round((cap_tmv.quantile([.25,.5,.75])),2)\n",
    "cap_lowerq = round(cap_quartiles[0.25], 2)\n",
    "cap_upperq = round(cap_quartiles[0.75], 2)\n",
    "cap_iqr = round((cap_upperq - cap_lowerq), 2)\n",
    "\n",
    "print(f\"---------------Capomulin Treatment------------------\")\n",
    "print(f\"The lower quartile of temperatures is: {cap_lowerq}\")\n",
    "print(f\"The upper quartile of temperatures is: {cap_upperq}\")\n",
    "print(f\"The interquartile range of temperatures is: {cap_iqr}\")\n",
    "print(f\"The median of temperatures is: {cap_quartiles[0.5]} \")\n",
    "\n",
    "cap_lower_bound = cap_lowerq - (1.5*cap_iqr)\n",
    "cap_upper_bound = cap_upperq + (1.5*cap_iqr)\n",
    "cap_out = cap_plot.loc[(cap_tmv < cap_lower_bound) | (cap_tmv > cap_upper_bound)]\n",
    "print(f\"Values below {cap_lower_bound} could be outliers.\")\n",
    "print(f\"Values above {cap_upper_bound} could be outliers.\") \n",
    "print(f\"The potential outliers is: \\n{cap_out}\")\n",
    "print(f\"----------------------------------------------------\")   \n",
    "    \n",
    "\n",
    "    \n",
    "# For Ramicane\n",
    "ram_quartiles = round((ram_tmv.quantile([.25,.5,.75])),2)\n",
    "ram_lowerq = round(ram_quartiles[0.25], 2)\n",
    "ram_upperq = round(ram_quartiles[0.75], 2)\n",
    "ram_iqr = round((ram_upperq - ram_lowerq), 2)\n",
    "\n",
    "print(f\"----------------Ramicane Treatment------------------\")\n",
    "print(f\"The lower quartile of temperatures is: {ram_lowerq}\")\n",
    "print(f\"The upper quartile of temperatures is: {ram_upperq}\")\n",
    "print(f\"The interquartile range of temperatures is: {ram_iqr}\")\n",
    "print(f\"The median of temperatures is: {ram_quartiles[0.5]} \")\n",
    "\n",
    "ram_lower_bound = ram_lowerq - (1.5*ram_iqr)\n",
    "ram_upper_bound = round((ram_upperq + (1.5*ram_iqr)), 2)\n",
    "ram_out = ram_plot.loc[(ram_tmv < ram_lower_bound) | (ram_tmv > ram_upper_bound)]\n",
    "print(f\"Values below {ram_lower_bound} could be outliers.\")\n",
    "print(f\"Values above {ram_upper_bound} could be outliers.\")\n",
    "print(f\"The potential outliers is: \\n{ram_out}\")\n",
    "print(f\"----------------------------------------------------\")   \n",
    "\n",
    "\n",
    "\n",
    "# For Ceftamin\n",
    "cef_quartiles = round((cef_tmv.quantile([.25,.5,.75])),2)\n",
    "cef_lowerq = round(cef_quartiles[0.25], 2)\n",
    "cef_upperq = round(cef_quartiles[0.75], 2)\n",
    "cef_iqr = round((cef_upperq - cef_lowerq), 2)\n",
    "\n",
    "print(f\"----------------Ceftamin Treatment------------------\")\n",
    "print(f\"The lower quartile of temperatures is: {cef_lowerq}\")\n",
    "print(f\"The upper quartile of temperatures is: {cef_upperq}\")\n",
    "print(f\"The interquartile range of temperatures is: {cef_iqr}\")\n",
    "print(f\"The median of temperatures is: {cef_quartiles[0.5]} \")\n",
    "\n",
    "cef_lower_bound = round((cef_lowerq - (1.5*cef_iqr)),2)\n",
    "cef_upper_bound = round((cef_upperq + (1.5*cef_iqr)), 2)\n",
    "cef_out = cef_plot.loc[(cef_tmv < cef_lower_bound) | (cef_tmv > cef_upper_bound)]\n",
    "print(f\"Values below {cef_lower_bound} could be outliers.\")\n",
    "print(f\"Values above {cef_upper_bound} could be outliers.\")\n",
    "print(f\"The potential outliers is: \\n{cef_out}\")\n",
    "print(f\"----------------------------------------------------\") \n",
    "    \n",
    "\n",
    "    \n",
    "# For Infubinol\n",
    "inf_quartiles = round((inf_tmv.quantile([.25,.5,.75])),2)\n",
    "inf_lowerq = round(inf_quartiles[0.25], 2)\n",
    "inf_upperq = round(inf_quartiles[0.75], 2)\n",
    "inf_iqr = round((inf_upperq - inf_lowerq), 2)\n",
    "\n",
    "print(f\"----------------Infubinol Treatment------------------\")\n",
    "print(f\"The lower quartile of temperatures is: {inf_lowerq}\")\n",
    "print(f\"The upper quartile of temperatures is: {inf_upperq}\")\n",
    "print(f\"The interquartile range of temperatures is: {inf_iqr}\")\n",
    "print(f\"The median of temperatures is: {inf_quartiles[0.5]} \")\n",
    "\n",
    "inf_lower_bound = round((inf_lowerq - (1.5*inf_iqr)),2)\n",
    "inf_upper_bound = round((inf_upperq + (1.5*inf_iqr)), 2)\n",
    "inf_out = inf_plot.loc[(inf_tmv < inf_lower_bound) | (inf_tmv > inf_upper_bound)]\n",
    "print(f\"Values below {inf_lower_bound} could be outliers.\")\n",
    "print(f\"Values above {inf_upper_bound} could be outliers.\")\n",
    "print(f\"The potential outliers is: {inf_out}\")\n",
    "print(f\"----------------------------------------------------\")\n",
    "print(f\"                                                      \")\n",
    "print(f\"The potential outliers from all four Drug Regimen is: \")\n",
    "inf_out\n"
   ]
  },
  {
   "cell_type": "code",
   "execution_count": 18,
   "metadata": {},
   "outputs": [
    {
     "data": {
      "image/png": "[encoded data removed]",
      "text/plain": [
       "<Figure size 864x576 with 1 Axes>"
      ]
     },
     "metadata": {
      "needs_background": "light"
     },
     "output_type": "display_data"
    }
   ],
   "source": [
    "# Generate a box plot of the final tumor volume of each mouse across four regimens of interest\n",
    "\n",
    "plt.figure(figsize=(12,8))\n",
    "dd=pd.melt(data_df,id_vars=['Drug Regimen'],value_vars=['Tumor Volume (mm3)'])\n",
    "sns.boxplot(x='Drug Regimen',y='value',data=dd)\n",
    "plt.xlabel(\"Drug Regimen\")\n",
    "plt.ylabel(\"Tumor Volume (mm3)\")\n",
    "plt.title(\"Final Tumor Volume across Drug Regimens\")\n",
    "plt.tight_layout()\n",
    "# plt.legend()\n",
    "\n"
   ]
  },
  {
   "cell_type": "markdown",
   "metadata": {},
   "source": [
    "## Line and Scatter Plots"
   ]
  },
  {
   "cell_type": "code",
   "execution_count": 19,
   "metadata": {},
   "outputs": [
    {
     "data": {
      "text/plain": [
       "<matplotlib.legend.Legend at 0x287470c97f0>"
      ]
     },
     "execution_count": 19,
     "metadata": {},
     "output_type": "execute_result"
    },
    {
     "data": {
      "image/png": "[encoded data removed]",
      "text/plain": [
       "<Figure size 864x576 with 1 Axes>"
      ]
     },
     "metadata": {
      "needs_background": "light"
     },
     "output_type": "display_data"
    }
   ],
   "source": [
    "# Generate a line plot of time point versus tumor volume for a mouse treated with Capomulin\n",
    "plot_data = clean_data[[\"Mouse ID\",\"Drug Regimen\", \"Timepoint\", \"Tumor Volume (mm3)\", \"Weight (g)\"]]\n",
    "cap_data = plot_data[(plot_data[\"Drug Regimen\"] == \"Capomulin\")]\n",
    "cap_data\n",
    "\n",
    "# x_axis = cap_data[\"Timepoint\"]\n",
    "# y_axis = cap_data[\"Tumor Volume (mm3)\"]\n",
    "\n",
    "cap_group = cap_data.groupby(\"Timepoint\")[\"Tumor Volume (mm3)\"].mean()\n",
    "bar = cap_group.plot(kind=\"line\", grid=True, alpha=2, figsize=(12,8))\n",
    "plt.xlim(0, 48)\n",
    "plt.ylim(36, 45)\n",
    "plt.xlabel(\"Timepoint (Days)\")\n",
    "plt.ylabel(\"Tumor Volume (mm3)\")\n",
    "plt.title(\"Capomulin Treatment of Mouse Tumor over time\")\n",
    "plt.tight_layout()\n",
    "plt.legend()\n",
    "# plt.figure(figsize=(20,5))\n",
    "# bar.plot(alpha=0.7, rot=60, width=0.6, label=\"Mice Count\", figsize=(12,5))"
   ]
  },
  {
   "cell_type": "code",
   "execution_count": 20,
   "metadata": {},
   "outputs": [
    {
     "data": {
      "image/png": "[encoded data removed]",
      "text/plain": [
       "<Figure size 864x576 with 1 Axes>"
      ]
     },
     "metadata": {
      "needs_background": "light"
     },
     "output_type": "display_data"
    }
   ],
   "source": [
    "# Generate a scatter plot of mouse weight versus average tumor volume for the Capomulin regimen\n",
    "cap_data\n",
    "\n",
    "cap_groupn = cap_data.groupby(\"Mouse ID\")[[\"Weight (g)\", \"Tumor Volume (mm3)\"]].mean()\n",
    "\n",
    "x_axis = cap_groupn[\"Weight (g)\"]\n",
    "y_axis = cap_groupn[\"Tumor Volume (mm3)\"]\n",
    "\n",
    "plt.figure(figsize=(12, 8))\n",
    "plt.scatter(x_axis, y_axis, color=\"red\", edgecolors=\"black\", label=\"Mouse ID\")\n",
    "plt.xlabel(\"Weight (g)\")\n",
    "plt.ylabel(\"Tumor Volume (mm3)\")\n",
    "plt.title(\"Mouse Weight vs Average Tumor Volume for Capomulin Treatment\")\n",
    "plt.tight_layout()\n",
    "plt.legend(loc='upper left')\n",
    "plt.show()\n"
   ]
  },
  {
   "cell_type": "markdown",
   "metadata": {},
   "source": [
    "## Correlation and Regression"
   ]
  },
  {
   "cell_type": "code",
   "execution_count": 21,
   "metadata": {},
   "outputs": [
    {
     "name": "stdout",
     "output_type": "stream",
     "text": [
      "The correlation coefficient is: 0.84\n",
      "The r-squared is: 0.7088568047708717\n",
      "The equation of the regression line is: y= 0.95x + 21.55\n"
     ]
    },
    {
     "data": {
      "image/png": "[encoded data removed]",
      "text/plain": [
       "<Figure size 864x576 with 1 Axes>"
      ]
     },
     "metadata": {
      "needs_background": "light"
     },
     "output_type": "display_data"
    }
   ],
   "source": [
    "# Calculate the correlation coefficient and linear regression model \n",
    "# for mouse weight and average tumor volume for the Capomulin regimen\n",
    "x_axis = cap_groupn[\"Weight (g)\"]\n",
    "y_axis = cap_groupn[\"Tumor Volume (mm3)\"]\n",
    "\n",
    "correlation = round(st.pearsonr(x_axis, y_axis)[0], 2)\n",
    "\n",
    "(slope, intercept, rvalue, pvalue, stderr) = linregress(x_axis, y_axis)\n",
    "regress_values = x_axis * slope + intercept\n",
    "line_eq = \"y= \" + str(round((slope), 2)) + \"x + \" + str(round(intercept, 2))\n",
    "\n",
    "plt.figure(figsize=(12,8))\n",
    "\n",
    "print(f\"The correlation coefficient is: {correlation}\")\n",
    "print(f\"The r-squared is: {rvalue**2}\")\n",
    "print(f\"The equation of the regression line is: {line_eq}\")\n",
    "\n",
    "plt.scatter(x_axis,y_axis)\n",
    "plt.plot(x_axis,regress_values,\"r-\")\n",
    "plt.annotate(line_eq,(22,37),fontsize=15,color=\"red\")\n",
    "plt.grid()\n",
    "plt.xlabel('Weight (g)')\n",
    "plt.ylabel('Tumor Volume (mm3)')\n",
    "plt.title(\"Mouse Weight vs Average Tumor Volume for Capomulin Treatment\")\n",
    "plt.tight_layout()\n",
    "plt.show()"
   ]
  },
  {
   "cell_type": "code",
   "execution_count": null,
   "metadata": {},
   "outputs": [],
   "source": []
  }
 ],
 "metadata": {
  "anaconda-cloud": {},
  "kernelspec": {
   "display_name": "Python 3",
   "language": "python",
   "name": "python3"
  },
  "language_info": {
   "codemirror_mode": {
    "name": "ipython",
    "version": 3
   },
   "file_extension": ".py",
   "mimetype": "text/x-python",
   "name": "python",
   "nbconvert_exporter": "python",
   "pygments_lexer": "ipython3",
   "version": "3.7.3"
  }
 },
 "nbformat": 4,
 "nbformat_minor": 2
}
